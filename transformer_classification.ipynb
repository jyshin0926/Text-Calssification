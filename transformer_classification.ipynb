{
  "nbformat": 4,
  "nbformat_minor": 0,
  "metadata": {
    "colab": {
      "name": "transformer_classification.ipynb",
      "provenance": [],
      "collapsed_sections": [],
      "authorship_tag": "ABX9TyOPDcjiUy7pxb8RXvA8yDRO",
      "include_colab_link": true
    },
    "kernelspec": {
      "name": "python3",
      "display_name": "Python 3"
    },
    "language_info": {
      "name": "python"
    }
  },
  "cells": [
    {
      "cell_type": "markdown",
      "metadata": {
        "id": "view-in-github",
        "colab_type": "text"
      },
      "source": [
        "<a href=\"https://colab.research.google.com/github/jyshin0926/Text-Calssification/blob/master/transformer_classification.ipynb\" target=\"_parent\"><img src=\"https://colab.research.google.com/assets/colab-badge.svg\" alt=\"Open In Colab\"/></a>"
      ]
    },
    {
      "cell_type": "markdown",
      "metadata": {
        "id": "ha1Q_5JytRlz"
      },
      "source": [
        "## 멀티헤드 어텐션"
      ]
    },
    {
      "cell_type": "code",
      "metadata": {
        "id": "_EFH09A5th8H"
      },
      "source": [
        "import tensorflow as tf"
      ],
      "execution_count": null,
      "outputs": []
    },
    {
      "cell_type": "code",
      "metadata": {
        "id": "Sh9tmg7jtjOY"
      },
      "source": [
        "class MultiHeadAttention(tf.keras.layers.Layer):\n",
        "    def __init__(self, embedding_dim, num_heads=8):\n",
        "        super(MultiHeadAttention, self).__init__()\n",
        "        self.embedding_dim = embedding_dim # d_model\n",
        "        self.num_heads = num_heads\n",
        "\n",
        "        assert embedding_dim % self.num_heads == 0\n",
        "\n",
        "        self.projection_dim = embedding_dim // num_heads\n",
        "        self.query_dense = tf.keras.layers.Dense(embedding_dim)\n",
        "        self.key_dense = tf.keras.layers.Dense(embedding_dim)\n",
        "        self.value_dense = tf.keras.layers.Dense(embedding_dim)\n",
        "        self.dense = tf.keras.layers.Dense(embedding_dim)\n",
        "\n",
        "    def scaled_dot_product_attention(self, query, key, value):\n",
        "        matmul_qk = tf.matmul(query, key, transpose_b=True)\n",
        "        depth = tf.cast(tf.shape(key)[-1], tf.float32)\n",
        "        logits = matmul_qk / tf.math.sqrt(depth)\n",
        "        attention_weights = tf.nn.softmax(logits, axis=-1)\n",
        "        output = tf.matmul(attention_weights, value)\n",
        "        return output, attention_weights\n",
        "\n",
        "    def split_heads(self, x, batch_size):\n",
        "        x = tf.reshape(x, (batch_size, -1, self.num_heads, self.projection_dim))\n",
        "        return tf.transpose(x, perm=[0, 2, 1, 3])\n",
        "\n",
        "    def call(self, inputs):\n",
        "        # x.shape = [batch_size, seq_len, embedding_dim]\n",
        "        batch_size = tf.shape(inputs)[0]\n",
        "\n",
        "        # (batch_size, seq_len, embedding_dim)\n",
        "        query = self.query_dense(inputs)\n",
        "        key = self.key_dense(inputs)\n",
        "        value = self.value_dense(inputs)\n",
        "\n",
        "        # (batch_size, num_heads, seq_len, projection_dim)\n",
        "        query = self.split_heads(query, batch_size)  \n",
        "        key = self.split_heads(key, batch_size)\n",
        "        value = self.split_heads(value, batch_size)\n",
        "\n",
        "        scaled_attention, _ = self.scaled_dot_product_attention(query, key, value)\n",
        "        # (batch_size, seq_len, num_heads, projection_dim)\n",
        "        scaled_attention = tf.transpose(scaled_attention, perm=[0, 2, 1, 3])  \n",
        "\n",
        "        # (batch_size, seq_len, embedding_dim)\n",
        "        concat_attention = tf.reshape(scaled_attention, (batch_size, -1, self.embedding_dim))\n",
        "        outputs = self.dense(concat_attention)\n",
        "        return outputs"
      ],
      "execution_count": null,
      "outputs": []
    },
    {
      "cell_type": "markdown",
      "metadata": {
        "id": "PuH2oJ3hwTrD"
      },
      "source": [
        "## 인코더 설계"
      ]
    },
    {
      "cell_type": "code",
      "metadata": {
        "id": "0PIGLFh1weS2"
      },
      "source": [
        "class TransformerBlock(tf.keras.layers.Layer):\n",
        "    def __init__(self, embedding_dim, num_heads, dff, rate=0.1):\n",
        "        super(TransformerBlock, self).__init__()\n",
        "        self.att = MultiHeadAttention(embedding_dim, num_heads)\n",
        "        self.ffn = tf.keras.Sequential(\n",
        "            [tf.keras.layers.Dense(dff, activation=\"relu\"),\n",
        "             tf.keras.layers.Dense(embedding_dim),]\n",
        "        )\n",
        "        self.layernorm1 = tf.keras.layers.LayerNormalization(epsilon=1e-6)\n",
        "        self.layernorm2 = tf.keras.layers.LayerNormalization(epsilon=1e-6)\n",
        "        self.dropout1 = tf.keras.layers.Dropout(rate)\n",
        "        self.dropout2 = tf.keras.layers.Dropout(rate)\n",
        "\n",
        "    def call(self, inputs, training):\n",
        "        attn_output = self.att(inputs)\n",
        "        attn_output = self.dropout1(attn_output, training=training)\n",
        "        out1 = self.layernorm1(inputs + attn_output)\n",
        "        ffn_output = self.ffn(out1)\n",
        "        ffn_output = self.dropout2(ffn_output, training=training)\n",
        "        return self.layernorm2(out1 + ffn_output)"
      ],
      "execution_count": null,
      "outputs": []
    },
    {
      "cell_type": "markdown",
      "metadata": {
        "id": "KEqJ84eawkd_"
      },
      "source": [
        "## 포지션 임베딩"
      ]
    },
    {
      "cell_type": "code",
      "metadata": {
        "id": "RmCmdS3rwmzY"
      },
      "source": [
        "class TokenAndPositionEmbedding(tf.keras.layers.Layer):\n",
        "    def __init__(self, max_len, vocab_size, embedding_dim):\n",
        "        super(TokenAndPositionEmbedding, self).__init__()\n",
        "        self.token_emb = tf.keras.layers.Embedding(vocab_size, embedding_dim)\n",
        "        self.pos_emb = tf.keras.layers.Embedding(max_len, embedding_dim)\n",
        "\n",
        "    def call(self, x):\n",
        "        max_len = tf.shape(x)[-1]\n",
        "        positions = tf.range(start=0, limit=max_len, delta=1)\n",
        "        positions = self.pos_emb(positions)\n",
        "        x = self.token_emb(x)\n",
        "        return x + positions"
      ],
      "execution_count": null,
      "outputs": []
    },
    {
      "cell_type": "markdown",
      "metadata": {
        "id": "U_JlJcrawqT7"
      },
      "source": [
        "## 데이터 로드 및 전처리"
      ]
    },
    {
      "cell_type": "code",
      "metadata": {
        "colab": {
          "base_uri": "https://localhost:8080/"
        },
        "id": "DNTvIXM6wuHr",
        "outputId": "8a86069c-02ef-4a0c-a514-d786284570ff"
      },
      "source": [
        "vocab_size = 20000  # Only consider the top 20k words\n",
        "max_len = 200  # Only consider the first 200 words of each movie review\n",
        "\n",
        "(X_train, y_train), (X_test, y_test) = tf.keras.datasets.imdb.load_data(num_words=vocab_size)\n",
        "print('훈련용 리뷰 개수 : {}'.format(len(X_train)))\n",
        "print('테스트용 리뷰 개수 : {}'.format(len(X_test)))"
      ],
      "execution_count": null,
      "outputs": [
        {
          "output_type": "stream",
          "text": [
            "<string>:6: VisibleDeprecationWarning: Creating an ndarray from ragged nested sequences (which is a list-or-tuple of lists-or-tuples-or ndarrays with different lengths or shapes) is deprecated. If you meant to do this, you must specify 'dtype=object' when creating the ndarray\n",
            "/usr/local/lib/python3.7/dist-packages/tensorflow/python/keras/datasets/imdb.py:159: VisibleDeprecationWarning: Creating an ndarray from ragged nested sequences (which is a list-or-tuple of lists-or-tuples-or ndarrays with different lengths or shapes) is deprecated. If you meant to do this, you must specify 'dtype=object' when creating the ndarray\n",
            "  x_train, y_train = np.array(xs[:idx]), np.array(labels[:idx])\n"
          ],
          "name": "stderr"
        },
        {
          "output_type": "stream",
          "text": [
            "훈련용 리뷰 개수 : 25000\n",
            "테스트용 리뷰 개수 : 25000\n"
          ],
          "name": "stdout"
        },
        {
          "output_type": "stream",
          "text": [
            "/usr/local/lib/python3.7/dist-packages/tensorflow/python/keras/datasets/imdb.py:160: VisibleDeprecationWarning: Creating an ndarray from ragged nested sequences (which is a list-or-tuple of lists-or-tuples-or ndarrays with different lengths or shapes) is deprecated. If you meant to do this, you must specify 'dtype=object' when creating the ndarray\n",
            "  x_test, y_test = np.array(xs[idx:]), np.array(labels[idx:])\n"
          ],
          "name": "stderr"
        }
      ]
    },
    {
      "cell_type": "code",
      "metadata": {
        "id": "fld1IwLlxNYI"
      },
      "source": [
        "X_train = tf.keras.preprocessing.sequence.pad_sequences(X_train, maxlen=max_len)\n",
        "X_test = tf.keras.preprocessing.sequence.pad_sequences(X_test, maxlen=max_len)"
      ],
      "execution_count": null,
      "outputs": []
    },
    {
      "cell_type": "markdown",
      "metadata": {
        "id": "IRkyyBUYwv8e"
      },
      "source": [
        "## 트랜스포머를 이용한 IMDB 리뷰 classification"
      ]
    },
    {
      "cell_type": "code",
      "metadata": {
        "id": "dujoywarw4dx"
      },
      "source": [
        "embedding_dim = 32  # Embedding size for each token\n",
        "num_heads = 2  # Number of attention heads\n",
        "dff = 32  # Hidden layer size in feed forward network inside transformer\n",
        "\n",
        "inputs = tf.keras.layers.Input(shape=(max_len,))\n",
        "embedding_layer = TokenAndPositionEmbedding(max_len, vocab_size, embedding_dim)\n",
        "x = embedding_layer(inputs)\n",
        "transformer_block = TransformerBlock(embedding_dim, num_heads, dff)\n",
        "x = transformer_block(x)\n",
        "x = tf.keras.layers.GlobalAveragePooling1D()(x)\n",
        "x = tf.keras.layers.Dropout(0.1)(x)\n",
        "x = tf.keras.layers.Dense(20, activation=\"relu\")(x)\n",
        "x = tf.keras.layers.Dropout(0.1)(x)\n",
        "outputs = tf.keras.layers.Dense(2, activation=\"softmax\")(x)\n",
        "\n",
        "model = tf.keras.Model(inputs=inputs, outputs=outputs)"
      ],
      "execution_count": null,
      "outputs": []
    },
    {
      "cell_type": "code",
      "metadata": {
        "colab": {
          "base_uri": "https://localhost:8080/"
        },
        "id": "0qosSMkAw8sf",
        "outputId": "de3e5f25-3a6b-42e2-daaa-2f6f4f1c99a9"
      },
      "source": [
        "model.compile(\"adam\", \"sparse_categorical_crossentropy\", metrics=[\"accuracy\"])\n",
        "es = tf.keras.callbacks.EarlyStopping(monitor='val_loss',mode='min',verbose=1, patience=2)\n",
        "history = model.fit(X_train, y_train, batch_size=32, epochs=50, validation_data=(X_test, y_test))"
      ],
      "execution_count": null,
      "outputs": [
        {
          "output_type": "stream",
          "text": [
            "Epoch 1/50\n",
            "782/782 [==============================] - 82s 103ms/step - loss: 0.5031 - accuracy: 0.7281 - val_loss: 0.3341 - val_accuracy: 0.8573\n",
            "Epoch 2/50\n",
            "782/782 [==============================] - 80s 102ms/step - loss: 0.1884 - accuracy: 0.9296 - val_loss: 0.3652 - val_accuracy: 0.8374\n",
            "Epoch 3/50\n",
            "782/782 [==============================] - 81s 103ms/step - loss: 0.1278 - accuracy: 0.9558 - val_loss: 0.3907 - val_accuracy: 0.8631\n",
            "Epoch 4/50\n",
            "782/782 [==============================] - 82s 104ms/step - loss: 0.0851 - accuracy: 0.9716 - val_loss: 0.4229 - val_accuracy: 0.8587\n",
            "Epoch 5/50\n",
            "782/782 [==============================] - 81s 104ms/step - loss: 0.0541 - accuracy: 0.9816 - val_loss: 0.5624 - val_accuracy: 0.8234\n",
            "Epoch 6/50\n",
            "782/782 [==============================] - 81s 104ms/step - loss: 0.0399 - accuracy: 0.9873 - val_loss: 0.5743 - val_accuracy: 0.8464\n",
            "Epoch 7/50\n",
            "782/782 [==============================] - 80s 102ms/step - loss: 0.0298 - accuracy: 0.9898 - val_loss: 0.8110 - val_accuracy: 0.8384\n",
            "Epoch 8/50\n",
            "782/782 [==============================] - 79s 101ms/step - loss: 0.0225 - accuracy: 0.9916 - val_loss: 0.6588 - val_accuracy: 0.8423\n",
            "Epoch 9/50\n",
            "782/782 [==============================] - 78s 100ms/step - loss: 0.0190 - accuracy: 0.9935 - val_loss: 0.9689 - val_accuracy: 0.8438\n",
            "Epoch 10/50\n",
            "782/782 [==============================] - 78s 100ms/step - loss: 0.0140 - accuracy: 0.9952 - val_loss: 0.9321 - val_accuracy: 0.8367\n",
            "Epoch 11/50\n",
            "782/782 [==============================] - 79s 101ms/step - loss: 0.0106 - accuracy: 0.9964 - val_loss: 0.9867 - val_accuracy: 0.8342\n",
            "Epoch 12/50\n",
            "782/782 [==============================] - 79s 101ms/step - loss: 0.0080 - accuracy: 0.9977 - val_loss: 0.9476 - val_accuracy: 0.8354\n",
            "Epoch 13/50\n",
            "782/782 [==============================] - 79s 101ms/step - loss: 0.0087 - accuracy: 0.9969 - val_loss: 0.9334 - val_accuracy: 0.8308\n",
            "Epoch 14/50\n",
            "782/782 [==============================] - 79s 102ms/step - loss: 0.0069 - accuracy: 0.9978 - val_loss: 0.9066 - val_accuracy: 0.8355\n",
            "Epoch 15/50\n",
            "782/782 [==============================] - 79s 101ms/step - loss: 0.0058 - accuracy: 0.9980 - val_loss: 1.3182 - val_accuracy: 0.8282\n",
            "Epoch 16/50\n",
            "782/782 [==============================] - 79s 101ms/step - loss: 0.0062 - accuracy: 0.9979 - val_loss: 1.1652 - val_accuracy: 0.8278\n",
            "Epoch 17/50\n",
            "782/782 [==============================] - 79s 102ms/step - loss: 0.0073 - accuracy: 0.9976 - val_loss: 1.4043 - val_accuracy: 0.8110\n",
            "Epoch 18/50\n",
            "782/782 [==============================] - 79s 101ms/step - loss: 0.0032 - accuracy: 0.9995 - val_loss: 1.3425 - val_accuracy: 0.8278\n",
            "Epoch 19/50\n",
            "782/782 [==============================] - 80s 102ms/step - loss: 0.0057 - accuracy: 0.9984 - val_loss: 1.2090 - val_accuracy: 0.8292\n",
            "Epoch 20/50\n",
            "782/782 [==============================] - 81s 104ms/step - loss: 0.0032 - accuracy: 0.9987 - val_loss: 1.3690 - val_accuracy: 0.8292\n",
            "Epoch 21/50\n",
            "782/782 [==============================] - 80s 102ms/step - loss: 0.0051 - accuracy: 0.9989 - val_loss: 1.2789 - val_accuracy: 0.8307\n",
            "Epoch 22/50\n",
            "782/782 [==============================] - 78s 100ms/step - loss: 0.0041 - accuracy: 0.9989 - val_loss: 1.2594 - val_accuracy: 0.8295\n",
            "Epoch 23/50\n",
            "782/782 [==============================] - 79s 101ms/step - loss: 0.0017 - accuracy: 0.9996 - val_loss: 1.2570 - val_accuracy: 0.8288\n",
            "Epoch 24/50\n",
            "782/782 [==============================] - 80s 102ms/step - loss: 0.0046 - accuracy: 0.9988 - val_loss: 1.3932 - val_accuracy: 0.8291\n",
            "Epoch 25/50\n",
            "782/782 [==============================] - 79s 101ms/step - loss: 0.0022 - accuracy: 0.9992 - val_loss: 1.4985 - val_accuracy: 0.8286\n",
            "Epoch 26/50\n",
            "782/782 [==============================] - 80s 102ms/step - loss: 0.0015 - accuracy: 0.9995 - val_loss: 1.3230 - val_accuracy: 0.8297\n",
            "Epoch 27/50\n",
            "782/782 [==============================] - 80s 103ms/step - loss: 0.0032 - accuracy: 0.9989 - val_loss: 1.4825 - val_accuracy: 0.8237\n",
            "Epoch 28/50\n",
            "782/782 [==============================] - 79s 101ms/step - loss: 0.0027 - accuracy: 0.9988 - val_loss: 1.2865 - val_accuracy: 0.8324\n",
            "Epoch 29/50\n",
            "782/782 [==============================] - 79s 101ms/step - loss: 0.0021 - accuracy: 0.9995 - val_loss: 1.4674 - val_accuracy: 0.8259\n",
            "Epoch 30/50\n",
            "782/782 [==============================] - 80s 103ms/step - loss: 4.2985e-04 - accuracy: 0.9999 - val_loss: 1.7092 - val_accuracy: 0.8280\n",
            "Epoch 31/50\n",
            "782/782 [==============================] - 82s 105ms/step - loss: 4.9354e-05 - accuracy: 1.0000 - val_loss: 2.0887 - val_accuracy: 0.8262\n",
            "Epoch 32/50\n",
            "782/782 [==============================] - 81s 104ms/step - loss: 7.6251e-06 - accuracy: 1.0000 - val_loss: 2.1447 - val_accuracy: 0.8267\n",
            "Epoch 33/50\n",
            "782/782 [==============================] - 80s 103ms/step - loss: 3.2217e-06 - accuracy: 1.0000 - val_loss: 2.2003 - val_accuracy: 0.8266\n",
            "Epoch 34/50\n",
            "782/782 [==============================] - 80s 102ms/step - loss: 2.4993e-06 - accuracy: 1.0000 - val_loss: 2.2737 - val_accuracy: 0.8266\n",
            "Epoch 35/50\n",
            "782/782 [==============================] - 80s 103ms/step - loss: 1.3239e-06 - accuracy: 1.0000 - val_loss: 2.3444 - val_accuracy: 0.8264\n",
            "Epoch 36/50\n",
            "782/782 [==============================] - 80s 102ms/step - loss: 9.7490e-07 - accuracy: 1.0000 - val_loss: 2.4279 - val_accuracy: 0.8263\n",
            "Epoch 37/50\n",
            "782/782 [==============================] - 79s 102ms/step - loss: 7.3588e-07 - accuracy: 1.0000 - val_loss: 2.5020 - val_accuracy: 0.8261\n",
            "Epoch 38/50\n",
            "782/782 [==============================] - 80s 102ms/step - loss: 1.0536e-06 - accuracy: 1.0000 - val_loss: 2.6250 - val_accuracy: 0.8274\n",
            "Epoch 39/50\n",
            "782/782 [==============================] - 80s 102ms/step - loss: 3.5940e-07 - accuracy: 1.0000 - val_loss: 2.7205 - val_accuracy: 0.8270\n",
            "Epoch 40/50\n",
            "782/782 [==============================] - 79s 101ms/step - loss: 1.8248e-07 - accuracy: 1.0000 - val_loss: 2.7942 - val_accuracy: 0.8267\n",
            "Epoch 41/50\n",
            "782/782 [==============================] - 78s 100ms/step - loss: 1.1866e-07 - accuracy: 1.0000 - val_loss: 2.8683 - val_accuracy: 0.8266\n",
            "Epoch 42/50\n",
            "782/782 [==============================] - 79s 101ms/step - loss: 1.0065e-07 - accuracy: 1.0000 - val_loss: 2.9753 - val_accuracy: 0.8265\n",
            "Epoch 43/50\n",
            "782/782 [==============================] - 79s 100ms/step - loss: 1.2419e-07 - accuracy: 1.0000 - val_loss: 3.0921 - val_accuracy: 0.8265\n",
            "Epoch 44/50\n",
            "782/782 [==============================] - 79s 101ms/step - loss: 3.3781e-08 - accuracy: 1.0000 - val_loss: 3.1768 - val_accuracy: 0.8264\n",
            "Epoch 45/50\n",
            "782/782 [==============================] - 80s 102ms/step - loss: 5.1555e-08 - accuracy: 1.0000 - val_loss: 3.2922 - val_accuracy: 0.8264\n",
            "Epoch 46/50\n",
            "782/782 [==============================] - 80s 102ms/step - loss: 4.9190e-08 - accuracy: 1.0000 - val_loss: 3.4722 - val_accuracy: 0.8262\n",
            "Epoch 47/50\n",
            "782/782 [==============================] - 80s 102ms/step - loss: 8.8977e-09 - accuracy: 1.0000 - val_loss: 3.5656 - val_accuracy: 0.8261\n",
            "Epoch 48/50\n",
            "782/782 [==============================] - 81s 103ms/step - loss: 1.9270e-08 - accuracy: 1.0000 - val_loss: 3.9122 - val_accuracy: 0.8264\n",
            "Epoch 49/50\n",
            "782/782 [==============================] - 82s 105ms/step - loss: 1.7554e-09 - accuracy: 1.0000 - val_loss: 3.9764 - val_accuracy: 0.8262\n",
            "Epoch 50/50\n",
            "782/782 [==============================] - 81s 104ms/step - loss: 6.7115e-09 - accuracy: 1.0000 - val_loss: 4.0431 - val_accuracy: 0.8263\n"
          ],
          "name": "stdout"
        }
      ]
    },
    {
      "cell_type": "code",
      "metadata": {
        "colab": {
          "base_uri": "https://localhost:8080/"
        },
        "id": "s8WBQAnhw-0G",
        "outputId": "211821ce-a5b5-4c53-f4a3-48db9c69251f"
      },
      "source": [
        "print(\"테스트 정확도: %.4f\" % (model.evaluate(X_test, y_test)[1]))"
      ],
      "execution_count": null,
      "outputs": [
        {
          "output_type": "stream",
          "text": [
            "782/782 [==============================] - 20s 25ms/step - loss: 4.0431 - accuracy: 0.8263\n",
            "테스트 정확도: 0.8263\n"
          ],
          "name": "stdout"
        }
      ]
    }
  ]
}